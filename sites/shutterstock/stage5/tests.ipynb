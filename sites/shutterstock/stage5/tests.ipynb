{
 "cells": [
  {
   "cell_type": "code",
   "execution_count": 1,
   "metadata": {},
   "outputs": [
    {
     "name": "stderr",
     "output_type": "stream",
     "text": [
      "/home/windowsuser/.local/lib/python3.8/site-packages/tqdm/auto.py:21: TqdmWarning: IProgress not found. Please update jupyter and ipywidgets. See https://ipywidgets.readthedocs.io/en/stable/user_install.html\n",
      "  from .autonotebook import tqdm as notebook_tqdm\n"
     ]
    }
   ],
   "source": [
    "import warnings\n",
    "from functools import partial\n",
    "from typing import Dict, List, Optional, Union\n",
    "\n",
    "import jax\n",
    "import jax.numpy as jnp\n",
    "import numpy as np\n",
    "from flax.core.frozen_dict import FrozenDict\n",
    "from flax.jax_utils import unreplicate\n",
    "from flax.training.common_utils import shard\n",
    "from packaging import version\n",
    "from PIL import Image\n",
    "from transformers import CLIPTokenizer, FlaxCLIPTextModel\n",
    "import time"
   ]
  },
  {
   "cell_type": "code",
   "execution_count": 37,
   "metadata": {},
   "outputs": [],
   "source": [
    "BATCH_SIZE = 2\n",
    "DEVICES = 4\n",
    "REPEATS = 2"
   ]
  },
  {
   "cell_type": "code",
   "execution_count": 39,
   "metadata": {},
   "outputs": [
    {
     "name": "stdout",
     "output_type": "stream",
     "text": [
      "['hello ladies and gentlemen today we are going to...', 'hello ladies and gentlemen today we are going to...']\n"
     ]
    }
   ],
   "source": [
    "prompt = \"hello ladies and gentlemen today we are going to...\"\n",
    "prompt = [ prompt for i in range(BATCH_SIZE)]\n",
    "print(prompt)"
   ]
  },
  {
   "cell_type": "code",
   "execution_count": 4,
   "metadata": {},
   "outputs": [
    {
     "name": "stderr",
     "output_type": "stream",
     "text": [
      "2023-08-13 00:51:47.156773: W tensorflow/compiler/tf2tensorrt/utils/py_utils.cc:38] TF-TRT Warning: Could not find TensorRT\n"
     ]
    }
   ],
   "source": [
    "tokenizer = CLIPTokenizer.from_pretrained(\"runwayml/stable-diffusion-v1-5\", subfolder=\"tokenizer\")\n",
    "text_encoder = FlaxCLIPTextModel.from_pretrained(\"runwayml/stable-diffusion-v1-5\", subfolder=\"text_encoder\", revision=\"flax\", dtype=jnp.float16)"
   ]
  },
  {
   "cell_type": "code",
   "execution_count": 40,
   "metadata": {},
   "outputs": [],
   "source": [
    "tokens = tokenizer(\n",
    "    prompt,\n",
    "    padding=\"max_length\",\n",
    "    max_length=tokenizer.model_max_length,\n",
    "    truncation=True,\n",
    "    return_tensors=\"np\",\n",
    ")"
   ]
  },
  {
   "cell_type": "code",
   "execution_count": 46,
   "metadata": {},
   "outputs": [
    {
     "name": "stdout",
     "output_type": "stream",
     "text": [
      "(2, 77)\n",
      "(2, 77)\n"
     ]
    }
   ],
   "source": [
    "print(tokens['input_ids'].shape)\n",
    "print(tokens['attention_mask'].shape)"
   ]
  },
  {
   "cell_type": "code",
   "execution_count": null,
   "metadata": {},
   "outputs": [],
   "source": [
    "list = "
   ]
  },
  {
   "cell_type": "code",
   "execution_count": 41,
   "metadata": {},
   "outputs": [
    {
     "name": "stdout",
     "output_type": "stream",
     "text": [
      "Embedding time: 2.6413785815238953 seconds\n"
     ]
    }
   ],
   "source": [
    "init_time = time.time()\n",
    "for i in range(REPEATS):\n",
    "    embeds = text_encoder(**tokens)\n",
    "finish_time = time.time()\n",
    "print(f'Embedding time: {(finish_time - init_time) / BATCH_SIZE / REPEATS} seconds')"
   ]
  },
  {
   "cell_type": "code",
   "execution_count": 45,
   "metadata": {},
   "outputs": [
    {
     "name": "stdout",
     "output_type": "stream",
     "text": [
      "(2, 768)\n"
     ]
    }
   ],
   "source": [
    "print(embeds[1].shape)"
   ]
  },
  {
   "cell_type": "code",
   "execution_count": 13,
   "metadata": {},
   "outputs": [
    {
     "name": "stdout",
     "output_type": "stream",
     "text": [
      "<class 'jaxlib.xla_extension.ArrayImpl'>\n"
     ]
    }
   ],
   "source": [
    "print(type(embeds[0]))"
   ]
  },
  {
   "cell_type": "code",
   "execution_count": 30,
   "metadata": {},
   "outputs": [
    {
     "name": "stdout",
     "output_type": "stream",
     "text": [
      "[[[-0.3884   0.02295 -0.05225 ... -0.49    -0.3066   0.0674 ]\n",
      "  [ 1.456    0.1726  -1.575   ... -0.665   -0.65    -0.3667 ]\n",
      "  [ 0.8887  -0.2103  -0.275   ...  0.1096  -1.028   -0.496  ]\n",
      "  ...\n",
      "  [ 0.3267   0.1011   0.45    ... -0.579   -0.4492  -0.2013 ]\n",
      "  [ 0.1454   0.07526  0.2927  ... -0.5166  -0.4292  -0.1357 ]\n",
      "  [ 1.166    0.4116   1.962   ... -0.946    0.987   -0.485  ]]\n",
      "\n",
      " [[-0.3884   0.02295 -0.05225 ... -0.49    -0.3066   0.0674 ]\n",
      "  [ 1.456    0.1726  -1.575   ... -0.665   -0.65    -0.3667 ]\n",
      "  [ 0.8887  -0.2103  -0.275   ...  0.1096  -1.028   -0.496  ]\n",
      "  ...\n",
      "  [ 0.3267   0.1011   0.45    ... -0.579   -0.4492  -0.2013 ]\n",
      "  [ 0.1454   0.07526  0.2927  ... -0.5166  -0.4292  -0.1357 ]\n",
      "  [ 1.166    0.4116   1.962   ... -0.946    0.987   -0.485  ]]\n",
      "\n",
      " [[-0.3884   0.02295 -0.05225 ... -0.49    -0.3066   0.0674 ]\n",
      "  [ 1.456    0.1726  -1.575   ... -0.665   -0.65    -0.3667 ]\n",
      "  [ 0.8887  -0.2103  -0.275   ...  0.1096  -1.028   -0.496  ]\n",
      "  ...\n",
      "  [ 0.3267   0.1011   0.45    ... -0.579   -0.4492  -0.2013 ]\n",
      "  [ 0.1454   0.07526  0.2927  ... -0.5166  -0.4292  -0.1357 ]\n",
      "  [ 1.166    0.4116   1.962   ... -0.946    0.987   -0.485  ]]\n",
      "\n",
      " ...\n",
      "\n",
      " [[-0.3884   0.02295 -0.05225 ... -0.49    -0.3066   0.0674 ]\n",
      "  [ 1.456    0.1726  -1.575   ... -0.665   -0.65    -0.3667 ]\n",
      "  [ 0.8887  -0.2103  -0.275   ...  0.1096  -1.028   -0.496  ]\n",
      "  ...\n",
      "  [ 0.3267   0.1011   0.45    ... -0.579   -0.4492  -0.2013 ]\n",
      "  [ 0.1454   0.07526  0.2927  ... -0.5166  -0.4292  -0.1357 ]\n",
      "  [ 1.166    0.4116   1.962   ... -0.946    0.987   -0.485  ]]\n",
      "\n",
      " [[-0.3884   0.02295 -0.05225 ... -0.49    -0.3066   0.0674 ]\n",
      "  [ 1.456    0.1726  -1.575   ... -0.665   -0.65    -0.3667 ]\n",
      "  [ 0.8887  -0.2103  -0.275   ...  0.1096  -1.028   -0.496  ]\n",
      "  ...\n",
      "  [ 0.3267   0.1011   0.45    ... -0.579   -0.4492  -0.2013 ]\n",
      "  [ 0.1454   0.07526  0.2927  ... -0.5166  -0.4292  -0.1357 ]\n",
      "  [ 1.166    0.4116   1.962   ... -0.946    0.987   -0.485  ]]\n",
      "\n",
      " [[-0.3884   0.02295 -0.05225 ... -0.49    -0.3066   0.0674 ]\n",
      "  [ 1.456    0.1726  -1.575   ... -0.665   -0.65    -0.3667 ]\n",
      "  [ 0.8887  -0.2103  -0.275   ...  0.1096  -1.028   -0.496  ]\n",
      "  ...\n",
      "  [ 0.3267   0.1011   0.45    ... -0.579   -0.4492  -0.2013 ]\n",
      "  [ 0.1454   0.07526  0.2927  ... -0.5166  -0.4292  -0.1357 ]\n",
      "  [ 1.166    0.4116   1.962   ... -0.946    0.987   -0.485  ]]]\n"
     ]
    }
   ],
   "source": [
    "print(embeds)"
   ]
  },
  {
   "cell_type": "code",
   "execution_count": 31,
   "metadata": {},
   "outputs": [
    {
     "name": "stdout",
     "output_type": "stream",
     "text": [
      "(1, 768)\n",
      "(1, 77, 768)\n"
     ]
    }
   ],
   "source": [
    "print(embeds.pooler_output.shape)\n",
    "print(embeds.last_hidden_state.shape)"
   ]
  },
  {
   "cell_type": "code",
   "execution_count": 19,
   "metadata": {},
   "outputs": [],
   "source": [
    "def encode(input_ids: jnp.array, attention_mask: jnp.array):\n",
    "    return text_encoder(input_ids, attention_mask=attention_mask)[0]\n",
    "\n",
    "def create_key(seed=0):\n",
    "    return jax.random.PRNGKey(seed)\n",
    "\n",
    "rng = create_key(0)\n",
    "model = jax.pmap(encode, in_axes=(0, 0,))"
   ]
  },
  {
   "cell_type": "code",
   "execution_count": 29,
   "metadata": {},
   "outputs": [
    {
     "name": "stdout",
     "output_type": "stream",
     "text": [
      "(4, 64, 77)\n"
     ]
    }
   ],
   "source": [
    "print(jnp.array([tokens['input_ids'] for i in range(DEVICES)]).shape)"
   ]
  },
  {
   "cell_type": "code",
   "execution_count": 27,
   "metadata": {},
   "outputs": [
    {
     "name": "stdout",
     "output_type": "stream",
     "text": [
      "Time taken: 0.0952918529510498 seconds\n"
     ]
    }
   ],
   "source": [
    "init_time = time.time()\n",
    "for i in range(REPEATS):\n",
    "    output = model(\n",
    "        jnp.array([tokens['input_ids'] for i in range(DEVICES)]),\n",
    "        jnp.array([tokens['attention_mask'] for i in range(DEVICES)]),\n",
    "    )\n",
    "    output.block_until_ready()\n",
    "print(f\"Time taken: {(time.time() - init_time) / DEVICES / BATCH_SIZE / REPEATS} seconds\")"
   ]
  },
  {
   "cell_type": "code",
   "execution_count": 20,
   "metadata": {},
   "outputs": [
    {
     "name": "stdout",
     "output_type": "stream",
     "text": [
      "{'input_ids': array([[49406,  3306,  3431,   537, 11692,   721,   649,   631,  1245,\n",
      "          531,   678, 49407, 49407, 49407, 49407, 49407, 49407, 49407,\n",
      "        49407, 49407, 49407, 49407, 49407, 49407, 49407, 49407, 49407,\n",
      "        49407, 49407, 49407, 49407, 49407, 49407, 49407, 49407, 49407,\n",
      "        49407, 49407, 49407, 49407, 49407, 49407, 49407, 49407, 49407,\n",
      "        49407, 49407, 49407, 49407, 49407, 49407, 49407, 49407, 49407,\n",
      "        49407, 49407, 49407, 49407, 49407, 49407, 49407, 49407, 49407,\n",
      "        49407, 49407, 49407, 49407, 49407, 49407, 49407, 49407, 49407,\n",
      "        49407, 49407, 49407, 49407, 49407],\n",
      "       [49406,  3306,  3431,   537, 11692,   721,   649,   631,  1245,\n",
      "          531,   678, 49407, 49407, 49407, 49407, 49407, 49407, 49407,\n",
      "        49407, 49407, 49407, 49407, 49407, 49407, 49407, 49407, 49407,\n",
      "        49407, 49407, 49407, 49407, 49407, 49407, 49407, 49407, 49407,\n",
      "        49407, 49407, 49407, 49407, 49407, 49407, 49407, 49407, 49407,\n",
      "        49407, 49407, 49407, 49407, 49407, 49407, 49407, 49407, 49407,\n",
      "        49407, 49407, 49407, 49407, 49407, 49407, 49407, 49407, 49407,\n",
      "        49407, 49407, 49407, 49407, 49407, 49407, 49407, 49407, 49407,\n",
      "        49407, 49407, 49407, 49407, 49407]]), 'attention_mask': array([[1, 1, 1, 1, 1, 1, 1, 1, 1, 1, 1, 1, 0, 0, 0, 0, 0, 0, 0, 0, 0, 0,\n",
      "        0, 0, 0, 0, 0, 0, 0, 0, 0, 0, 0, 0, 0, 0, 0, 0, 0, 0, 0, 0, 0, 0,\n",
      "        0, 0, 0, 0, 0, 0, 0, 0, 0, 0, 0, 0, 0, 0, 0, 0, 0, 0, 0, 0, 0, 0,\n",
      "        0, 0, 0, 0, 0, 0, 0, 0, 0, 0, 0],\n",
      "       [1, 1, 1, 1, 1, 1, 1, 1, 1, 1, 1, 1, 0, 0, 0, 0, 0, 0, 0, 0, 0, 0,\n",
      "        0, 0, 0, 0, 0, 0, 0, 0, 0, 0, 0, 0, 0, 0, 0, 0, 0, 0, 0, 0, 0, 0,\n",
      "        0, 0, 0, 0, 0, 0, 0, 0, 0, 0, 0, 0, 0, 0, 0, 0, 0, 0, 0, 0, 0, 0,\n",
      "        0, 0, 0, 0, 0, 0, 0, 0, 0, 0, 0]])}\n"
     ]
    }
   ],
   "source": [
    "print(tokens)"
   ]
  }
 ],
 "metadata": {
  "kernelspec": {
   "display_name": "Python 3",
   "language": "python",
   "name": "python3"
  },
  "language_info": {
   "codemirror_mode": {
    "name": "ipython",
    "version": 3
   },
   "file_extension": ".py",
   "mimetype": "text/x-python",
   "name": "python",
   "nbconvert_exporter": "python",
   "pygments_lexer": "ipython3",
   "version": "3.8.10"
  },
  "orig_nbformat": 4
 },
 "nbformat": 4,
 "nbformat_minor": 2
}
